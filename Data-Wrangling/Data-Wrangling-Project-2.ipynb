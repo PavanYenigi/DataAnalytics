{
 "cells": [
  {
   "cell_type": "code",
   "execution_count": 1,
   "id": "896b0a38",
   "metadata": {},
   "outputs": [],
   "source": [
    "import pandas as pd\n",
    "import numpy as np\n",
    "import matplotlib.pyplot as plt\n",
    "import matplotlib.dates as mdates\n",
    "from IPython.display import display"
   ]
  },
  {
   "cell_type": "markdown",
   "id": "a325048d",
   "metadata": {},
   "source": [
    "Loading the datasets"
   ]
  },
  {
   "cell_type": "code",
   "execution_count": 2,
   "id": "f4044d81",
   "metadata": {},
   "outputs": [],
   "source": [
    "air_reserve = pd.read_csv('air_reserve.csv')\n",
    "air_store = pd.read_csv('air_store_info.csv')\n",
    "air_visit = pd.read_csv('air_visit_data.csv')\n",
    "\n",
    "hpg_reserve = pd.read_csv('hpg_reserve.csv')\n",
    "hpg_store = pd.read_csv('hpg_store_info.csv')\n",
    "\n",
    "date_info = pd.read_csv('date_info.csv')\n",
    "store_ids = pd.read_csv('store_id_relation.csv')"
   ]
  },
  {
   "cell_type": "markdown",
   "id": "8070c58a",
   "metadata": {},
   "source": [
    "Understanding the datasets"
   ]
  },
  {
   "cell_type": "code",
   "execution_count": 3,
   "id": "cdd5c8a7",
   "metadata": {},
   "outputs": [],
   "source": [
    "def visual_info(df,size=3):\n",
    "    print('Shape',df.shape)\n",
    "    print(\"types\",df.dtypes)\n",
    "    df.head(size)\n",
    "    #print(df.columns)"
   ]
  },
  {
   "cell_type": "code",
   "execution_count": 4,
   "id": "203915e5",
   "metadata": {},
   "outputs": [
    {
     "name": "stdout",
     "output_type": "stream",
     "text": [
      "Shape (92378, 4)\n",
      "types air_store_id        object\n",
      "visit_datetime      object\n",
      "reserve_datetime    object\n",
      "reserve_visitors     int64\n",
      "dtype: object\n"
     ]
    }
   ],
   "source": [
    "visual_info(air_reserve)"
   ]
  },
  {
   "cell_type": "code",
   "execution_count": 5,
   "id": "01d11a7e",
   "metadata": {},
   "outputs": [
    {
     "name": "stdout",
     "output_type": "stream",
     "text": [
      "Shape (829, 5)\n",
      "types air_store_id       object\n",
      "air_genre_name     object\n",
      "air_area_name      object\n",
      "latitude          float64\n",
      "longitude         float64\n",
      "dtype: object\n"
     ]
    }
   ],
   "source": [
    "visual_info(air_store)"
   ]
  },
  {
   "cell_type": "code",
   "execution_count": 6,
   "id": "43147be0",
   "metadata": {},
   "outputs": [
    {
     "name": "stdout",
     "output_type": "stream",
     "text": [
      "Shape (252108, 3)\n",
      "types air_store_id    object\n",
      "visit_date      object\n",
      "visitors         int64\n",
      "dtype: object\n"
     ]
    }
   ],
   "source": [
    "visual_info(air_visit)"
   ]
  },
  {
   "cell_type": "code",
   "execution_count": 7,
   "id": "b1e81cd2",
   "metadata": {},
   "outputs": [
    {
     "name": "stdout",
     "output_type": "stream",
     "text": [
      "Shape (2000320, 4)\n",
      "types hpg_store_id        object\n",
      "visit_datetime      object\n",
      "reserve_datetime    object\n",
      "reserve_visitors     int64\n",
      "dtype: object\n"
     ]
    }
   ],
   "source": [
    "visual_info(hpg_reserve)"
   ]
  },
  {
   "cell_type": "code",
   "execution_count": 8,
   "id": "2da6732b",
   "metadata": {},
   "outputs": [
    {
     "name": "stdout",
     "output_type": "stream",
     "text": [
      "Shape (4690, 5)\n",
      "types hpg_store_id       object\n",
      "hpg_genre_name     object\n",
      "hpg_area_name      object\n",
      "latitude          float64\n",
      "longitude         float64\n",
      "dtype: object\n"
     ]
    }
   ],
   "source": [
    "visual_info(hpg_store)"
   ]
  },
  {
   "cell_type": "code",
   "execution_count": 9,
   "id": "9c6734af",
   "metadata": {},
   "outputs": [
    {
     "name": "stdout",
     "output_type": "stream",
     "text": [
      "Shape (517, 3)\n",
      "types calendar_date    object\n",
      "day_of_week      object\n",
      "holiday_flg       int64\n",
      "dtype: object\n"
     ]
    }
   ],
   "source": [
    "visual_info(date_info)"
   ]
  },
  {
   "cell_type": "code",
   "execution_count": 10,
   "id": "ceea8cf9",
   "metadata": {},
   "outputs": [
    {
     "name": "stdout",
     "output_type": "stream",
     "text": [
      "Shape (150, 2)\n",
      "types air_store_id    object\n",
      "hpg_store_id    object\n",
      "dtype: object\n"
     ]
    }
   ],
   "source": [
    "visual_info(store_ids)"
   ]
  },
  {
   "cell_type": "markdown",
   "id": "cdfa9a88",
   "metadata": {},
   "source": [
    "Merging the datasets"
   ]
  },
  {
   "cell_type": "code",
   "execution_count": 11,
   "id": "6b1faa80",
   "metadata": {},
   "outputs": [
    {
     "data": {
      "text/html": [
       "<div>\n",
       "<style scoped>\n",
       "    .dataframe tbody tr th:only-of-type {\n",
       "        vertical-align: middle;\n",
       "    }\n",
       "\n",
       "    .dataframe tbody tr th {\n",
       "        vertical-align: top;\n",
       "    }\n",
       "\n",
       "    .dataframe thead th {\n",
       "        text-align: right;\n",
       "    }\n",
       "</style>\n",
       "<table border=\"1\" class=\"dataframe\">\n",
       "  <thead>\n",
       "    <tr style=\"text-align: right;\">\n",
       "      <th></th>\n",
       "      <th>air_store_id</th>\n",
       "      <th>air_genre_name</th>\n",
       "      <th>air_area_name</th>\n",
       "      <th>latitude</th>\n",
       "      <th>longitude</th>\n",
       "    </tr>\n",
       "  </thead>\n",
       "  <tbody>\n",
       "    <tr>\n",
       "      <th>0</th>\n",
       "      <td>air_0f0cdeee6c9bf3d7</td>\n",
       "      <td>Italian/French</td>\n",
       "      <td>Hyōgo-ken Kōbe-shi Kumoidōri</td>\n",
       "      <td>34.695124</td>\n",
       "      <td>135.197853</td>\n",
       "    </tr>\n",
       "    <tr>\n",
       "      <th>1</th>\n",
       "      <td>air_7cc17a324ae5c7dc</td>\n",
       "      <td>Italian/French</td>\n",
       "      <td>Hyōgo-ken Kōbe-shi Kumoidōri</td>\n",
       "      <td>34.695124</td>\n",
       "      <td>135.197853</td>\n",
       "    </tr>\n",
       "    <tr>\n",
       "      <th>2</th>\n",
       "      <td>air_fee8dcf4d619598e</td>\n",
       "      <td>Italian/French</td>\n",
       "      <td>Hyōgo-ken Kōbe-shi Kumoidōri</td>\n",
       "      <td>34.695124</td>\n",
       "      <td>135.197853</td>\n",
       "    </tr>\n",
       "    <tr>\n",
       "      <th>3</th>\n",
       "      <td>air_a17f0778617c76e2</td>\n",
       "      <td>Italian/French</td>\n",
       "      <td>Hyōgo-ken Kōbe-shi Kumoidōri</td>\n",
       "      <td>34.695124</td>\n",
       "      <td>135.197853</td>\n",
       "    </tr>\n",
       "    <tr>\n",
       "      <th>4</th>\n",
       "      <td>air_83db5aff8f50478e</td>\n",
       "      <td>Italian/French</td>\n",
       "      <td>Tōkyō-to Minato-ku Shibakōen</td>\n",
       "      <td>35.658068</td>\n",
       "      <td>139.751599</td>\n",
       "    </tr>\n",
       "  </tbody>\n",
       "</table>\n",
       "</div>"
      ],
      "text/plain": [
       "           air_store_id  air_genre_name                 air_area_name  \\\n",
       "0  air_0f0cdeee6c9bf3d7  Italian/French  Hyōgo-ken Kōbe-shi Kumoidōri   \n",
       "1  air_7cc17a324ae5c7dc  Italian/French  Hyōgo-ken Kōbe-shi Kumoidōri   \n",
       "2  air_fee8dcf4d619598e  Italian/French  Hyōgo-ken Kōbe-shi Kumoidōri   \n",
       "3  air_a17f0778617c76e2  Italian/French  Hyōgo-ken Kōbe-shi Kumoidōri   \n",
       "4  air_83db5aff8f50478e  Italian/French  Tōkyō-to Minato-ku Shibakōen   \n",
       "\n",
       "    latitude   longitude  \n",
       "0  34.695124  135.197853  \n",
       "1  34.695124  135.197853  \n",
       "2  34.695124  135.197853  \n",
       "3  34.695124  135.197853  \n",
       "4  35.658068  139.751599  "
      ]
     },
     "execution_count": 11,
     "metadata": {},
     "output_type": "execute_result"
    }
   ],
   "source": [
    "air_store.head()"
   ]
  },
  {
   "cell_type": "code",
   "execution_count": 12,
   "id": "477f947d",
   "metadata": {},
   "outputs": [],
   "source": [
    "#Adding visit_date column for air_reserve\n",
    "air_reserve['visit_datetime']=pd.to_datetime(air_reserve['visit_datetime'])\n",
    "air_reserve['visit_date']=air_reserve['visit_datetime'].apply(lambda x:x.strftime('%Y-%m-%d'))\n",
    "\n",
    "\n",
    "#rename columns to match during merge\n",
    "air_reserve.rename(columns={'reserve_visitors':'visitors'},inplace=True)"
   ]
  },
  {
   "cell_type": "code",
   "execution_count": 13,
   "id": "c959972c",
   "metadata": {},
   "outputs": [],
   "source": [
    "#merging air_reserve and air_visit\n",
    "data=pd.merge(air_visit,air_reserve,on=[\"air_store_id\",'visit_date','visitors'],how='outer')"
   ]
  },
  {
   "cell_type": "code",
   "execution_count": 14,
   "id": "14ec31c5",
   "metadata": {},
   "outputs": [
    {
     "data": {
      "text/plain": [
       "(343508, 5)"
      ]
     },
     "execution_count": 14,
     "metadata": {},
     "output_type": "execute_result"
    }
   ],
   "source": [
    "data.shape"
   ]
  },
  {
   "cell_type": "code",
   "execution_count": 15,
   "id": "9a76daf8",
   "metadata": {},
   "outputs": [],
   "source": [
    "#merging data and air_store\n",
    "data=pd.merge(data,air_store,on=['air_store_id'],how='left')"
   ]
  },
  {
   "cell_type": "code",
   "execution_count": 16,
   "id": "327d4fc1",
   "metadata": {},
   "outputs": [
    {
     "data": {
      "text/plain": [
       "(343508, 9)"
      ]
     },
     "execution_count": 16,
     "metadata": {},
     "output_type": "execute_result"
    }
   ],
   "source": [
    "data.shape"
   ]
  },
  {
   "cell_type": "code",
   "execution_count": 17,
   "id": "551a6b75",
   "metadata": {},
   "outputs": [
    {
     "data": {
      "text/plain": [
       "Index(['air_store_id', 'visit_date', 'visitors', 'visit_datetime',\n",
       "       'reserve_datetime', 'air_genre_name', 'air_area_name', 'latitude',\n",
       "       'longitude'],\n",
       "      dtype='object')"
      ]
     },
     "execution_count": 17,
     "metadata": {},
     "output_type": "execute_result"
    }
   ],
   "source": [
    "data.columns"
   ]
  },
  {
   "cell_type": "code",
   "execution_count": 18,
   "id": "9e25f8aa",
   "metadata": {},
   "outputs": [],
   "source": [
    "#Adding visit_date column for air_reserve\n",
    "hpg_reserve['visit_datetime']=pd.to_datetime(hpg_reserve['visit_datetime'])\n",
    "hpg_reserve['visit_date']=hpg_reserve['visit_datetime'].apply(lambda x:x.strftime('%Y-%m-%d'))"
   ]
  },
  {
   "cell_type": "code",
   "execution_count": 19,
   "id": "7f1d5fc7",
   "metadata": {},
   "outputs": [],
   "source": [
    "hpg=pd.merge(hpg_reserve,store_ids,on='hpg_store_id',how='left')"
   ]
  },
  {
   "cell_type": "code",
   "execution_count": 20,
   "id": "a7e58e99",
   "metadata": {},
   "outputs": [
    {
     "data": {
      "text/plain": [
       "(2000320, 6)"
      ]
     },
     "execution_count": 20,
     "metadata": {},
     "output_type": "execute_result"
    }
   ],
   "source": [
    "hpg.shape"
   ]
  },
  {
   "cell_type": "code",
   "execution_count": 21,
   "id": "744ccf92",
   "metadata": {},
   "outputs": [
    {
     "data": {
      "text/html": [
       "<div>\n",
       "<style scoped>\n",
       "    .dataframe tbody tr th:only-of-type {\n",
       "        vertical-align: middle;\n",
       "    }\n",
       "\n",
       "    .dataframe tbody tr th {\n",
       "        vertical-align: top;\n",
       "    }\n",
       "\n",
       "    .dataframe thead th {\n",
       "        text-align: right;\n",
       "    }\n",
       "</style>\n",
       "<table border=\"1\" class=\"dataframe\">\n",
       "  <thead>\n",
       "    <tr style=\"text-align: right;\">\n",
       "      <th></th>\n",
       "      <th>hpg_store_id</th>\n",
       "      <th>visit_datetime</th>\n",
       "      <th>reserve_datetime</th>\n",
       "      <th>reserve_visitors</th>\n",
       "      <th>visit_date</th>\n",
       "      <th>air_store_id</th>\n",
       "    </tr>\n",
       "  </thead>\n",
       "  <tbody>\n",
       "    <tr>\n",
       "      <th>0</th>\n",
       "      <td>hpg_c63f6f42e088e50f</td>\n",
       "      <td>2016-01-01 11:00:00</td>\n",
       "      <td>2016-01-01 09:00:00</td>\n",
       "      <td>1</td>\n",
       "      <td>2016-01-01</td>\n",
       "      <td>NaN</td>\n",
       "    </tr>\n",
       "    <tr>\n",
       "      <th>1</th>\n",
       "      <td>hpg_dac72789163a3f47</td>\n",
       "      <td>2016-01-01 13:00:00</td>\n",
       "      <td>2016-01-01 06:00:00</td>\n",
       "      <td>3</td>\n",
       "      <td>2016-01-01</td>\n",
       "      <td>NaN</td>\n",
       "    </tr>\n",
       "    <tr>\n",
       "      <th>2</th>\n",
       "      <td>hpg_c8e24dcf51ca1eb5</td>\n",
       "      <td>2016-01-01 16:00:00</td>\n",
       "      <td>2016-01-01 14:00:00</td>\n",
       "      <td>2</td>\n",
       "      <td>2016-01-01</td>\n",
       "      <td>NaN</td>\n",
       "    </tr>\n",
       "    <tr>\n",
       "      <th>3</th>\n",
       "      <td>hpg_24bb207e5fd49d4a</td>\n",
       "      <td>2016-01-01 17:00:00</td>\n",
       "      <td>2016-01-01 11:00:00</td>\n",
       "      <td>5</td>\n",
       "      <td>2016-01-01</td>\n",
       "      <td>NaN</td>\n",
       "    </tr>\n",
       "    <tr>\n",
       "      <th>4</th>\n",
       "      <td>hpg_25291c542ebb3bc2</td>\n",
       "      <td>2016-01-01 17:00:00</td>\n",
       "      <td>2016-01-01 03:00:00</td>\n",
       "      <td>13</td>\n",
       "      <td>2016-01-01</td>\n",
       "      <td>NaN</td>\n",
       "    </tr>\n",
       "  </tbody>\n",
       "</table>\n",
       "</div>"
      ],
      "text/plain": [
       "           hpg_store_id      visit_datetime     reserve_datetime  \\\n",
       "0  hpg_c63f6f42e088e50f 2016-01-01 11:00:00  2016-01-01 09:00:00   \n",
       "1  hpg_dac72789163a3f47 2016-01-01 13:00:00  2016-01-01 06:00:00   \n",
       "2  hpg_c8e24dcf51ca1eb5 2016-01-01 16:00:00  2016-01-01 14:00:00   \n",
       "3  hpg_24bb207e5fd49d4a 2016-01-01 17:00:00  2016-01-01 11:00:00   \n",
       "4  hpg_25291c542ebb3bc2 2016-01-01 17:00:00  2016-01-01 03:00:00   \n",
       "\n",
       "   reserve_visitors  visit_date air_store_id  \n",
       "0                 1  2016-01-01          NaN  \n",
       "1                 3  2016-01-01          NaN  \n",
       "2                 2  2016-01-01          NaN  \n",
       "3                 5  2016-01-01          NaN  \n",
       "4                13  2016-01-01          NaN  "
      ]
     },
     "execution_count": 21,
     "metadata": {},
     "output_type": "execute_result"
    }
   ],
   "source": [
    "hpg.head()"
   ]
  },
  {
   "cell_type": "code",
   "execution_count": 22,
   "id": "6bd5ab9e",
   "metadata": {},
   "outputs": [
    {
     "data": {
      "text/plain": [
       "(2000320, 10)"
      ]
     },
     "execution_count": 22,
     "metadata": {},
     "output_type": "execute_result"
    }
   ],
   "source": [
    "hpg=pd.merge(hpg,hpg_store, on='hpg_store_id',how='left')\n",
    "hpg.shape"
   ]
  },
  {
   "cell_type": "code",
   "execution_count": 23,
   "id": "559a50f3",
   "metadata": {},
   "outputs": [
    {
     "data": {
      "text/plain": [
       "Index(['hpg_store_id', 'visit_datetime', 'reserve_datetime',\n",
       "       'reserve_visitors', 'visit_date', 'air_store_id', 'hpg_genre_name',\n",
       "       'hpg_area_name', 'latitude', 'longitude'],\n",
       "      dtype='object')"
      ]
     },
     "execution_count": 23,
     "metadata": {},
     "output_type": "execute_result"
    }
   ],
   "source": [
    "hpg.columns"
   ]
  },
  {
   "cell_type": "code",
   "execution_count": 24,
   "id": "c817a87a",
   "metadata": {},
   "outputs": [
    {
     "data": {
      "text/plain": [
       "Index(['air_store_id', 'visit_date', 'visitors', 'visit_datetime',\n",
       "       'reserve_datetime', 'air_genre_name', 'air_area_name', 'latitude',\n",
       "       'longitude'],\n",
       "      dtype='object')"
      ]
     },
     "execution_count": 24,
     "metadata": {},
     "output_type": "execute_result"
    }
   ],
   "source": [
    "data.columns"
   ]
  },
  {
   "cell_type": "code",
   "execution_count": 25,
   "id": "8806b6ee",
   "metadata": {},
   "outputs": [],
   "source": [
    "hpg.rename(columns={'reserve_visitors':'visitors'},inplace=True)\n",
    "hpg.rename(columns={'hpg_genre_name':'genre_name'},inplace=True)\n",
    "hpg.rename(columns={'hpg_area_name':'area_name'},inplace=True)\n",
    "data.rename(columns={'air_genre_name':'genre_name'},inplace=True)\n",
    "data.rename(columns={'air_area_name':'area_name'},inplace=True)"
   ]
  },
  {
   "cell_type": "code",
   "execution_count": 26,
   "id": "3d7595d6",
   "metadata": {},
   "outputs": [
    {
     "data": {
      "text/html": [
       "<div>\n",
       "<style scoped>\n",
       "    .dataframe tbody tr th:only-of-type {\n",
       "        vertical-align: middle;\n",
       "    }\n",
       "\n",
       "    .dataframe tbody tr th {\n",
       "        vertical-align: top;\n",
       "    }\n",
       "\n",
       "    .dataframe thead th {\n",
       "        text-align: right;\n",
       "    }\n",
       "</style>\n",
       "<table border=\"1\" class=\"dataframe\">\n",
       "  <thead>\n",
       "    <tr style=\"text-align: right;\">\n",
       "      <th></th>\n",
       "      <th>air_store_id</th>\n",
       "      <th>visit_date</th>\n",
       "      <th>visitors</th>\n",
       "      <th>visit_datetime</th>\n",
       "      <th>reserve_datetime</th>\n",
       "      <th>genre_name</th>\n",
       "      <th>area_name</th>\n",
       "      <th>latitude</th>\n",
       "      <th>longitude</th>\n",
       "      <th>hpg_store_id</th>\n",
       "    </tr>\n",
       "  </thead>\n",
       "  <tbody>\n",
       "    <tr>\n",
       "      <th>0</th>\n",
       "      <td>air_ba937bf13d40fb24</td>\n",
       "      <td>2016-01-13</td>\n",
       "      <td>25</td>\n",
       "      <td>NaT</td>\n",
       "      <td>NaN</td>\n",
       "      <td>Dining bar</td>\n",
       "      <td>Tōkyō-to Minato-ku Shibakōen</td>\n",
       "      <td>35.658068</td>\n",
       "      <td>139.751599</td>\n",
       "      <td>NaN</td>\n",
       "    </tr>\n",
       "    <tr>\n",
       "      <th>1</th>\n",
       "      <td>air_ba937bf13d40fb24</td>\n",
       "      <td>2016-01-14</td>\n",
       "      <td>32</td>\n",
       "      <td>NaT</td>\n",
       "      <td>NaN</td>\n",
       "      <td>Dining bar</td>\n",
       "      <td>Tōkyō-to Minato-ku Shibakōen</td>\n",
       "      <td>35.658068</td>\n",
       "      <td>139.751599</td>\n",
       "      <td>NaN</td>\n",
       "    </tr>\n",
       "    <tr>\n",
       "      <th>2</th>\n",
       "      <td>air_ba937bf13d40fb24</td>\n",
       "      <td>2016-01-15</td>\n",
       "      <td>29</td>\n",
       "      <td>NaT</td>\n",
       "      <td>NaN</td>\n",
       "      <td>Dining bar</td>\n",
       "      <td>Tōkyō-to Minato-ku Shibakōen</td>\n",
       "      <td>35.658068</td>\n",
       "      <td>139.751599</td>\n",
       "      <td>NaN</td>\n",
       "    </tr>\n",
       "    <tr>\n",
       "      <th>3</th>\n",
       "      <td>air_ba937bf13d40fb24</td>\n",
       "      <td>2016-01-16</td>\n",
       "      <td>22</td>\n",
       "      <td>NaT</td>\n",
       "      <td>NaN</td>\n",
       "      <td>Dining bar</td>\n",
       "      <td>Tōkyō-to Minato-ku Shibakōen</td>\n",
       "      <td>35.658068</td>\n",
       "      <td>139.751599</td>\n",
       "      <td>NaN</td>\n",
       "    </tr>\n",
       "    <tr>\n",
       "      <th>4</th>\n",
       "      <td>air_ba937bf13d40fb24</td>\n",
       "      <td>2016-01-18</td>\n",
       "      <td>6</td>\n",
       "      <td>NaT</td>\n",
       "      <td>NaN</td>\n",
       "      <td>Dining bar</td>\n",
       "      <td>Tōkyō-to Minato-ku Shibakōen</td>\n",
       "      <td>35.658068</td>\n",
       "      <td>139.751599</td>\n",
       "      <td>NaN</td>\n",
       "    </tr>\n",
       "  </tbody>\n",
       "</table>\n",
       "</div>"
      ],
      "text/plain": [
       "           air_store_id  visit_date  visitors visit_datetime reserve_datetime  \\\n",
       "0  air_ba937bf13d40fb24  2016-01-13        25            NaT              NaN   \n",
       "1  air_ba937bf13d40fb24  2016-01-14        32            NaT              NaN   \n",
       "2  air_ba937bf13d40fb24  2016-01-15        29            NaT              NaN   \n",
       "3  air_ba937bf13d40fb24  2016-01-16        22            NaT              NaN   \n",
       "4  air_ba937bf13d40fb24  2016-01-18         6            NaT              NaN   \n",
       "\n",
       "   genre_name                     area_name   latitude   longitude  \\\n",
       "0  Dining bar  Tōkyō-to Minato-ku Shibakōen  35.658068  139.751599   \n",
       "1  Dining bar  Tōkyō-to Minato-ku Shibakōen  35.658068  139.751599   \n",
       "2  Dining bar  Tōkyō-to Minato-ku Shibakōen  35.658068  139.751599   \n",
       "3  Dining bar  Tōkyō-to Minato-ku Shibakōen  35.658068  139.751599   \n",
       "4  Dining bar  Tōkyō-to Minato-ku Shibakōen  35.658068  139.751599   \n",
       "\n",
       "  hpg_store_id  \n",
       "0          NaN  \n",
       "1          NaN  \n",
       "2          NaN  \n",
       "3          NaN  \n",
       "4          NaN  "
      ]
     },
     "execution_count": 26,
     "metadata": {},
     "output_type": "execute_result"
    }
   ],
   "source": [
    "data=pd.concat([data,hpg],axis=0).reset_index(drop=True)\n",
    "(data.shape)\n",
    "data.head()"
   ]
  },
  {
   "cell_type": "code",
   "execution_count": 27,
   "id": "047bee8d",
   "metadata": {},
   "outputs": [
    {
     "data": {
      "text/plain": [
       "(2343828, 10)"
      ]
     },
     "execution_count": 27,
     "metadata": {},
     "output_type": "execute_result"
    }
   ],
   "source": [
    "data.shape"
   ]
  },
  {
   "cell_type": "code",
   "execution_count": 28,
   "id": "5bf40246",
   "metadata": {},
   "outputs": [
    {
     "data": {
      "text/html": [
       "<div>\n",
       "<style scoped>\n",
       "    .dataframe tbody tr th:only-of-type {\n",
       "        vertical-align: middle;\n",
       "    }\n",
       "\n",
       "    .dataframe tbody tr th {\n",
       "        vertical-align: top;\n",
       "    }\n",
       "\n",
       "    .dataframe thead th {\n",
       "        text-align: right;\n",
       "    }\n",
       "</style>\n",
       "<table border=\"1\" class=\"dataframe\">\n",
       "  <thead>\n",
       "    <tr style=\"text-align: right;\">\n",
       "      <th></th>\n",
       "      <th>calendar_date</th>\n",
       "      <th>day_of_week</th>\n",
       "      <th>holiday_flg</th>\n",
       "    </tr>\n",
       "  </thead>\n",
       "  <tbody>\n",
       "    <tr>\n",
       "      <th>0</th>\n",
       "      <td>2016-01-01</td>\n",
       "      <td>Friday</td>\n",
       "      <td>1</td>\n",
       "    </tr>\n",
       "    <tr>\n",
       "      <th>1</th>\n",
       "      <td>2016-01-02</td>\n",
       "      <td>Saturday</td>\n",
       "      <td>1</td>\n",
       "    </tr>\n",
       "    <tr>\n",
       "      <th>2</th>\n",
       "      <td>2016-01-03</td>\n",
       "      <td>Sunday</td>\n",
       "      <td>1</td>\n",
       "    </tr>\n",
       "    <tr>\n",
       "      <th>3</th>\n",
       "      <td>2016-01-04</td>\n",
       "      <td>Monday</td>\n",
       "      <td>0</td>\n",
       "    </tr>\n",
       "    <tr>\n",
       "      <th>4</th>\n",
       "      <td>2016-01-05</td>\n",
       "      <td>Tuesday</td>\n",
       "      <td>0</td>\n",
       "    </tr>\n",
       "  </tbody>\n",
       "</table>\n",
       "</div>"
      ],
      "text/plain": [
       "  calendar_date day_of_week  holiday_flg\n",
       "0    2016-01-01      Friday            1\n",
       "1    2016-01-02    Saturday            1\n",
       "2    2016-01-03      Sunday            1\n",
       "3    2016-01-04      Monday            0\n",
       "4    2016-01-05     Tuesday            0"
      ]
     },
     "execution_count": 28,
     "metadata": {},
     "output_type": "execute_result"
    }
   ],
   "source": [
    "date_info.head()"
   ]
  },
  {
   "cell_type": "code",
   "execution_count": 29,
   "id": "8e6be5bb",
   "metadata": {},
   "outputs": [],
   "source": [
    "data['visit_dateime']=pd.to_datetime(data['visit_datetime'])"
   ]
  },
  {
   "cell_type": "code",
   "execution_count": 30,
   "id": "b5cc05e8",
   "metadata": {},
   "outputs": [
    {
     "data": {
      "text/plain": [
       "(2343828, 14)"
      ]
     },
     "execution_count": 30,
     "metadata": {},
     "output_type": "execute_result"
    }
   ],
   "source": [
    "data=pd.merge(data,date_info,left_on='visit_date',right_on='calendar_date')\n",
    "data.shape"
   ]
  },
  {
   "cell_type": "code",
   "execution_count": 31,
   "id": "e69eaac2",
   "metadata": {},
   "outputs": [],
   "source": [
    "del data['calendar_date']"
   ]
  },
  {
   "cell_type": "code",
   "execution_count": 32,
   "id": "32b06821",
   "metadata": {},
   "outputs": [
    {
     "data": {
      "text/plain": [
       "(2343828, 13)"
      ]
     },
     "execution_count": 32,
     "metadata": {},
     "output_type": "execute_result"
    }
   ],
   "source": [
    "data.shape"
   ]
  },
  {
   "cell_type": "markdown",
   "id": "3f2de7fd",
   "metadata": {},
   "source": [
    "Handling the missing values"
   ]
  },
  {
   "cell_type": "code",
   "execution_count": 33,
   "id": "ea8587ea",
   "metadata": {},
   "outputs": [
    {
     "data": {
      "text/plain": [
       "air_store_id        1972137\n",
       "visit_date                0\n",
       "visitors                  0\n",
       "visit_datetime       251130\n",
       "reserve_datetime     251130\n",
       "genre_name          1129012\n",
       "area_name           1129012\n",
       "latitude            1129012\n",
       "longitude           1129012\n",
       "hpg_store_id         343508\n",
       "visit_dateime        251130\n",
       "day_of_week               0\n",
       "holiday_flg               0\n",
       "dtype: int64"
      ]
     },
     "execution_count": 33,
     "metadata": {},
     "output_type": "execute_result"
    }
   ],
   "source": [
    "data.isnull().sum()"
   ]
  },
  {
   "cell_type": "code",
   "execution_count": 34,
   "id": "50b508e5",
   "metadata": {},
   "outputs": [
    {
     "data": {
      "text/plain": [
       "['air_store_id',\n",
       " 'visit_date',\n",
       " 'visitors',\n",
       " 'visit_datetime',\n",
       " 'reserve_datetime',\n",
       " 'genre_name',\n",
       " 'area_name',\n",
       " 'latitude',\n",
       " 'longitude',\n",
       " 'hpg_store_id',\n",
       " 'visit_dateime',\n",
       " 'day_of_week',\n",
       " 'holiday_flg']"
      ]
     },
     "execution_count": 34,
     "metadata": {},
     "output_type": "execute_result"
    }
   ],
   "source": [
    "data.columns.tolist()"
   ]
  },
  {
   "cell_type": "code",
   "execution_count": 35,
   "id": "c76e43b9",
   "metadata": {},
   "outputs": [
    {
     "data": {
      "text/plain": [
       "air_store_id                object\n",
       "visit_date                  object\n",
       "visitors                     int64\n",
       "visit_datetime      datetime64[ns]\n",
       "reserve_datetime            object\n",
       "genre_name                  object\n",
       "area_name                   object\n",
       "latitude                   float64\n",
       "longitude                  float64\n",
       "hpg_store_id                object\n",
       "visit_dateime       datetime64[ns]\n",
       "day_of_week                 object\n",
       "holiday_flg                  int64\n",
       "dtype: object"
      ]
     },
     "execution_count": 35,
     "metadata": {},
     "output_type": "execute_result"
    }
   ],
   "source": [
    "data.dtypes"
   ]
  },
  {
   "cell_type": "code",
   "execution_count": 36,
   "id": "2313d15d",
   "metadata": {},
   "outputs": [],
   "source": [
    "data['reserve_datetime']=pd.to_datetime(data['reserve_datetime'])\n",
    "data['visit_date']=pd.to_datetime(data['visit_date'])"
   ]
  },
  {
   "cell_type": "code",
   "execution_count": 37,
   "id": "859ee52f",
   "metadata": {},
   "outputs": [
    {
     "data": {
      "text/plain": [
       "air_store_id                object\n",
       "visit_date          datetime64[ns]\n",
       "visitors                     int64\n",
       "visit_datetime      datetime64[ns]\n",
       "reserve_datetime    datetime64[ns]\n",
       "genre_name                  object\n",
       "area_name                   object\n",
       "latitude                   float64\n",
       "longitude                  float64\n",
       "hpg_store_id                object\n",
       "visit_dateime       datetime64[ns]\n",
       "day_of_week                 object\n",
       "holiday_flg                  int64\n",
       "dtype: object"
      ]
     },
     "execution_count": 37,
     "metadata": {},
     "output_type": "execute_result"
    }
   ],
   "source": [
    "data.dtypes"
   ]
  },
  {
   "cell_type": "code",
   "execution_count": 38,
   "id": "6990879f",
   "metadata": {},
   "outputs": [],
   "source": [
    "#handling the null values in the object columns by adding the empty spaces\n",
    "data['genre_name'].fillna(value='',inplace=True)\n",
    "data['area_name'].fillna(value='',inplace=True)"
   ]
  },
  {
   "cell_type": "code",
   "execution_count": 39,
   "id": "9b3b9a83",
   "metadata": {},
   "outputs": [],
   "source": [
    "data.fillna(pd.concat([ data.hpg_store_id.map(store_ids.set_index('hpg_store_id').air_store_id),\n",
    "                      data.air_store_id.map(store_ids.set_index('air_store_id').hpg_store_id),\n",
    "                    ], axis=1, keys=['air_store_id', 'hpg_store_id']), inplace=True)"
   ]
  },
  {
   "cell_type": "code",
   "execution_count": 40,
   "id": "dd6bd069",
   "metadata": {},
   "outputs": [],
   "source": [
    "data['air_store_id'].fillna(value='', inplace=True)\n",
    "data['hpg_store_id'].fillna(value='', inplace=True)"
   ]
  },
  {
   "cell_type": "code",
   "execution_count": 41,
   "id": "9c01ae90",
   "metadata": {},
   "outputs": [
    {
     "data": {
      "text/plain": [
       "air_store_id              0\n",
       "visit_date                0\n",
       "visitors                  0\n",
       "visit_datetime       251130\n",
       "reserve_datetime     251130\n",
       "genre_name                0\n",
       "area_name                 0\n",
       "latitude            1129012\n",
       "longitude           1129012\n",
       "hpg_store_id              0\n",
       "day_of_week               0\n",
       "holiday_flg               0\n",
       "dtype: int64"
      ]
     },
     "execution_count": 41,
     "metadata": {},
     "output_type": "execute_result"
    }
   ],
   "source": [
    "data.drop(columns='visit_dateime',axis=1,inplace=True)\n",
    "data.isnull().sum()"
   ]
  },
  {
   "cell_type": "code",
   "execution_count": 42,
   "id": "a1428704",
   "metadata": {},
   "outputs": [],
   "source": [
    "data['latitude'].fillna(value=0,inplace=True)\n",
    "data['longitude'].fillna(value=0,inplace=True)"
   ]
  },
  {
   "cell_type": "code",
   "execution_count": 43,
   "id": "4cef9adb",
   "metadata": {},
   "outputs": [],
   "source": [
    "data['visit_datetime'].fillna(value=999,inplace=True)\n",
    "data['reserve_datetime'].fillna(value=999,inplace=True)"
   ]
  },
  {
   "cell_type": "code",
   "execution_count": null,
   "id": "5efd6e46",
   "metadata": {},
   "outputs": [],
   "source": []
  },
  {
   "cell_type": "code",
   "execution_count": null,
   "id": "aa23d1ff",
   "metadata": {},
   "outputs": [],
   "source": []
  }
 ],
 "metadata": {
  "kernelspec": {
   "display_name": "Python 3",
   "language": "python",
   "name": "python3"
  },
  "language_info": {
   "codemirror_mode": {
    "name": "ipython",
    "version": 3
   },
   "file_extension": ".py",
   "mimetype": "text/x-python",
   "name": "python",
   "nbconvert_exporter": "python",
   "pygments_lexer": "ipython3",
   "version": "3.8.8"
  }
 },
 "nbformat": 4,
 "nbformat_minor": 5
}
